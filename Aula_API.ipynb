{
 "cells": [
  {
   "cell_type": "markdown",
   "id": "c9a530b5",
   "metadata": {},
   "source": [
    "# Entendendo APIs"
   ]
  },
  {
   "cell_type": "markdown",
   "id": "b74f1d88",
   "metadata": {},
   "source": [
    "## 1 - O que é uma API?"
   ]
  },
  {
   "cell_type": "markdown",
   "id": "03f41632",
   "metadata": {},
   "source": [
    "API **(aplication programming interface)** é uma interface que permite a comunicação entre dois sistemas diferentes\n"
   ]
  },
  {
   "cell_type": "markdown",
   "id": "31564194",
   "metadata": {},
   "source": [
    "### Primeiro exemplo"
   ]
  },
  {
   "cell_type": "markdown",
   "id": "79d90962",
   "metadata": {},
   "source": [
    "O site https://hp-api.onrender.com é uma API pública (Interface de Programação de Aplicações) que oferece informações sobre o universo de Harry Potter. Essa API fornece dados relacionados a personagens, casas de Hogwarts, feitiços, varinhas, entre outros elementos do mundo criado por J.K. Rowling. Ela pode ser usada para acessar informações detalhadas, como:\n",
    "\n",
    "Personagens: Dados sobre personagens do universo de Harry Potter, como nome, casa, informações biográficas, etc.\n",
    "\n",
    "Casas de Hogwarts: Informações sobre as casas de Hogwarts (Grifinória, Sonserina, Lufa-Lufa e Corvinal).\n",
    "\n",
    "Feitiços: Dados sobre feitiços, incluindo seus nomes e efeitos.\n",
    "\n",
    "Varinhas: Detalhes sobre as varinhas usadas pelos personagens.\n",
    "\n",
    "Outros elementos: Pode incluir informações sobre filmes, livros, criaturas mágicas, etc."
   ]
  },
  {
   "cell_type": "code",
   "execution_count": 5,
   "id": "d376caa9",
   "metadata": {},
   "outputs": [
    {
     "name": "stdout",
     "output_type": "stream",
     "text": [
      "id | 9e3f7ce4-b9a7-4244-b709-dae5c1f1d4a8\n",
      "name | Harry Potter\n",
      "alternate_names | ['The Boy Who Lived', 'The Chosen One', 'Undesirable No. 1', 'Potty']\n",
      "species | human\n",
      "gender | male\n",
      "house | Gryffindor\n",
      "dateOfBirth | 31-07-1980\n",
      "yearOfBirth | 1980\n",
      "wizard | True\n",
      "ancestry | half-blood\n",
      "eyeColour | green\n",
      "hairColour | black\n",
      "wand | {'wood': 'holly', 'core': 'phoenix tail feather', 'length': 11}\n",
      "patronus | stag\n",
      "hogwartsStudent | True\n",
      "hogwartsStaff | False\n",
      "actor | Daniel Radcliffe\n",
      "alternate_actors | []\n",
      "alive | True\n",
      "image | https://ik.imagekit.io/hpapi/harry.jpg\n"
     ]
    }
   ],
   "source": [
    "import requests\n",
    "response = requests.get('https://hp-api.onrender.com/api/characters/')\n",
    "dados = response.json()\n",
    "for personagem in dados:\n",
    "    if personagem['name'] == 'Harry Potter':\n",
    "        for k in personagem.keys():\n",
    "            print(f'{k} | {personagem[k]}')"
   ]
  },
  {
   "cell_type": "markdown",
   "id": "cdf4c4b8",
   "metadata": {},
   "source": [
    "### 1.1 - Por que APIs existem?"
   ]
  },
  {
   "cell_type": "markdown",
   "id": "2cce0f64",
   "metadata": {},
   "source": [
    "As APIs existem para permitir que diferentes sistemas ou aplicativos se comuniquem e compartilhem dados de maneira padronizada e eficiente. Elas funcionam como um \"contrato\" entre diferentes sistemas: um fornece uma funcionalidade ou dado, e o outro consome ou utiliza essa informação."
   ]
  },
  {
   "cell_type": "markdown",
   "id": "256301fc",
   "metadata": {},
   "source": [
    "| **Razão para Existirem**                 | **Explicação**                                                                         |\n",
    "| ---------------------------------------- | -------------------------------------------------------------------------------------- |\n",
    "| **Integração entre sistemas diferentes** | Permite comunicação e troca de dados entre sistemas distintos.                         |\n",
    "| **Reusabilidade**                        | Funcionalidades podem ser reutilizadas em diferentes contextos, sem reescrever código. |\n",
    "| **Automação**                            | Facilita a automação de tarefas e processos, como pagamentos ou notificações.          |\n",
    "| **Escalabilidade**                       | Facilita a atualização e o crescimento dos sistemas sem impactar outros componentes.   |\n",
    "| **Segurança e controle**                 | Permite controlar o acesso a dados e serviços, garantindo maior segurança.             |\n"
   ]
  },
  {
   "cell_type": "markdown",
   "id": "feb718c4",
   "metadata": {},
   "source": [
    "### 1.2 - Por que aprender sobre APIs?"
   ]
  },
  {
   "cell_type": "markdown",
   "id": "47f27171",
   "metadata": {},
   "source": [
    "No geral, aprender sobre APIs não só expande suas habilidades técnicas, mas também permite que você crie soluções mais poderosas, eficientes e modernas."
   ]
  },
  {
   "cell_type": "markdown",
   "id": "499679cf",
   "metadata": {},
   "source": [
    "| **Por que aprender sobre APIs**                  | **Benefício**                                                                                |\n",
    "| ------------------------------------------------ | -------------------------------------------------------------------------------------------- |\n",
    "| **Habilidade essencial para desenvolvedores**    | Fundamentais para construir aplicativos modernos e funcionais.                               |\n",
    "| **Acesso a serviços externos**                   | Oferece acesso a funcionalidades e dados complexos de terceiros, sem precisar reinventar.    |\n",
    "| **Facilidade na integração com outros serviços** | Permite integrar seu sistema com outras plataformas e serviços de maneira eficiente.         |\n",
    "| **Aumento da produtividade**                     | Economiza tempo e recursos, usando soluções prontas e testadas.                              |\n",
    "| **Trabalho em equipe**                           | Facilita a colaboração entre diferentes equipes, dividindo responsabilidades de forma clara. |\n"
   ]
  },
  {
   "cell_type": "markdown",
   "id": "b7bccf85",
   "metadata": {},
   "source": [
    "### Segundo exemplo"
   ]
  },
  {
   "cell_type": "markdown",
   "id": "a50c4cfc",
   "metadata": {},
   "source": [
    "A Open-Meteo API é uma API pública e gratuita que fornece previsões meteorológicas e dados climáticos históricos para qualquer coordenada geográfica, sem necessidade de autenticação por chave de API.\n",
    "\n",
    "Principais recursos:\n",
    "\n",
    "Previsão horária, diária ou de longo prazo.\n",
    "\n",
    "Dados como temperatura, precipitação, vento, umidade, pressão, índice UV, entre outros.\n",
    "\n",
    "Cobertura global.\n",
    "\n",
    "Formato de resposta: geralmente JSON.\n",
    "\n",
    "Uso típico: você envia uma requisição HTTP com latitude, longitude e parâmetros desejados, e recebe os dados meteorológicos no formato especificado.\n",
    "\n",
    "Exemplo de requisição:"
   ]
  },
  {
   "cell_type": "code",
   "execution_count": 17,
   "id": "e31d6c73",
   "metadata": {},
   "outputs": [
    {
     "name": "stdout",
     "output_type": "stream",
     "text": [
      "{'latitude': -23.5, 'longitude': -46.5, 'generationtime_ms': 0.0171661376953125, 'utc_offset_seconds': 0, 'timezone': 'GMT', 'timezone_abbreviation': 'GMT', 'elevation': 737.0, 'hourly_units': {'time': 'iso8601', 'temperature_2m': '°C'}, 'hourly': {'time': ['2025-08-15T00:00', '2025-08-15T01:00', '2025-08-15T02:00', '2025-08-15T03:00', '2025-08-15T04:00', '2025-08-15T05:00', '2025-08-15T06:00', '2025-08-15T07:00', '2025-08-15T08:00', '2025-08-15T09:00', '2025-08-15T10:00', '2025-08-15T11:00', '2025-08-15T12:00', '2025-08-15T13:00', '2025-08-15T14:00', '2025-08-15T15:00', '2025-08-15T16:00', '2025-08-15T17:00', '2025-08-15T18:00', '2025-08-15T19:00', '2025-08-15T20:00', '2025-08-15T21:00', '2025-08-15T22:00', '2025-08-15T23:00', '2025-08-16T00:00', '2025-08-16T01:00', '2025-08-16T02:00', '2025-08-16T03:00', '2025-08-16T04:00', '2025-08-16T05:00', '2025-08-16T06:00', '2025-08-16T07:00', '2025-08-16T08:00', '2025-08-16T09:00', '2025-08-16T10:00', '2025-08-16T11:00', '2025-08-16T12:00', '2025-08-16T13:00', '2025-08-16T14:00', '2025-08-16T15:00', '2025-08-16T16:00', '2025-08-16T17:00', '2025-08-16T18:00', '2025-08-16T19:00', '2025-08-16T20:00', '2025-08-16T21:00', '2025-08-16T22:00', '2025-08-16T23:00', '2025-08-17T00:00', '2025-08-17T01:00', '2025-08-17T02:00', '2025-08-17T03:00', '2025-08-17T04:00', '2025-08-17T05:00', '2025-08-17T06:00', '2025-08-17T07:00', '2025-08-17T08:00', '2025-08-17T09:00', '2025-08-17T10:00', '2025-08-17T11:00', '2025-08-17T12:00', '2025-08-17T13:00', '2025-08-17T14:00', '2025-08-17T15:00', '2025-08-17T16:00', '2025-08-17T17:00', '2025-08-17T18:00', '2025-08-17T19:00', '2025-08-17T20:00', '2025-08-17T21:00', '2025-08-17T22:00', '2025-08-17T23:00', '2025-08-18T00:00', '2025-08-18T01:00', '2025-08-18T02:00', '2025-08-18T03:00', '2025-08-18T04:00', '2025-08-18T05:00', '2025-08-18T06:00', '2025-08-18T07:00', '2025-08-18T08:00', '2025-08-18T09:00', '2025-08-18T10:00', '2025-08-18T11:00', '2025-08-18T12:00', '2025-08-18T13:00', '2025-08-18T14:00', '2025-08-18T15:00', '2025-08-18T16:00', '2025-08-18T17:00', '2025-08-18T18:00', '2025-08-18T19:00', '2025-08-18T20:00', '2025-08-18T21:00', '2025-08-18T22:00', '2025-08-18T23:00', '2025-08-19T00:00', '2025-08-19T01:00', '2025-08-19T02:00', '2025-08-19T03:00', '2025-08-19T04:00', '2025-08-19T05:00', '2025-08-19T06:00', '2025-08-19T07:00', '2025-08-19T08:00', '2025-08-19T09:00', '2025-08-19T10:00', '2025-08-19T11:00', '2025-08-19T12:00', '2025-08-19T13:00', '2025-08-19T14:00', '2025-08-19T15:00', '2025-08-19T16:00', '2025-08-19T17:00', '2025-08-19T18:00', '2025-08-19T19:00', '2025-08-19T20:00', '2025-08-19T21:00', '2025-08-19T22:00', '2025-08-19T23:00', '2025-08-20T00:00', '2025-08-20T01:00', '2025-08-20T02:00', '2025-08-20T03:00', '2025-08-20T04:00', '2025-08-20T05:00', '2025-08-20T06:00', '2025-08-20T07:00', '2025-08-20T08:00', '2025-08-20T09:00', '2025-08-20T10:00', '2025-08-20T11:00', '2025-08-20T12:00', '2025-08-20T13:00', '2025-08-20T14:00', '2025-08-20T15:00', '2025-08-20T16:00', '2025-08-20T17:00', '2025-08-20T18:00', '2025-08-20T19:00', '2025-08-20T20:00', '2025-08-20T21:00', '2025-08-20T22:00', '2025-08-20T23:00', '2025-08-21T00:00', '2025-08-21T01:00', '2025-08-21T02:00', '2025-08-21T03:00', '2025-08-21T04:00', '2025-08-21T05:00', '2025-08-21T06:00', '2025-08-21T07:00', '2025-08-21T08:00', '2025-08-21T09:00', '2025-08-21T10:00', '2025-08-21T11:00', '2025-08-21T12:00', '2025-08-21T13:00', '2025-08-21T14:00', '2025-08-21T15:00', '2025-08-21T16:00', '2025-08-21T17:00', '2025-08-21T18:00', '2025-08-21T19:00', '2025-08-21T20:00', '2025-08-21T21:00', '2025-08-21T22:00', '2025-08-21T23:00'], 'temperature_2m': [11.8, 11.7, 11.6, 11.5, 11.4, 11.3, 11.1, 11.0, 10.9, 10.9, 11.0, 11.8, 13.3, 15.0, 16.8, 18.4, 19.3, 19.6, 19.2, 17.9, 16.0, 14.3, 13.4, 12.9, 12.6, 12.6, 12.7, 12.7, 12.7, 12.7, 12.7, 12.8, 12.5, 12.5, 12.6, 13.4, 15.0, 16.7, 18.7, 20.0, 20.9, 21.4, 20.4, 19.1, 17.6, 16.2, 15.4, 14.8, 14.4, 14.3, 14.1, 14.0, 13.8, 13.6, 13.4, 13.2, 13.2, 13.1, 13.0, 14.1, 15.7, 17.9, 20.3, 22.5, 23.9, 24.4, 24.7, 24.7, 21.1, 18.4, 17.2, 16.3, 15.5, 14.7, 14.1, 13.5, 12.9, 12.4, 12.0, 11.7, 11.6, 11.7, 12.3, 13.1, 14.5, 16.8, 19.6, 21.8, 23.1, 23.7, 23.6, 22.4, 20.5, 18.7, 17.2, 15.8, 14.7, 13.8, 13.0, 12.4, 11.9, 11.4, 11.0, 10.7, 10.4, 10.6, 11.4, 12.7, 14.6, 17.4, 20.9, 23.6, 25.2, 26.1, 26.7, 25.1, 23.4, 21.7, 20.3, 19.0, 17.9, 17.0, 16.3, 15.8, 15.3, 14.9, 14.8, 14.8, 15.0, 15.7, 17.1, 19.0, 21.0, 23.0, 25.1, 26.8, 27.9, 28.7, 28.7, 27.7, 25.9, 24.0, 22.0, 19.8, 18.1, 17.2, 16.7, 16.3, 15.7, 15.2, 14.6, 13.7, 12.8, 13.0, 15.3, 18.7, 21.9, 24.5, 26.9, 28.6, 29.7, 30.2, 30.0, 28.8, 26.9, 25.0, 23.1, 21.3]}}\n"
     ]
    }
   ],
   "source": [
    "response = requests.get(\"https://api.open-meteo.com/v1/forecast?latitude=-23.55&longitude=-46.63&hourly=temperature_2m\")\n",
    "conteudo = response.json()\n",
    "print(conteudo)"
   ]
  },
  {
   "cell_type": "code",
   "execution_count": 6,
   "id": "7940e46d",
   "metadata": {},
   "outputs": [
    {
     "data": {
      "text/html": [
       "<div>\n",
       "<style scoped>\n",
       "    .dataframe tbody tr th:only-of-type {\n",
       "        vertical-align: middle;\n",
       "    }\n",
       "\n",
       "    .dataframe tbody tr th {\n",
       "        vertical-align: top;\n",
       "    }\n",
       "\n",
       "    .dataframe thead th {\n",
       "        text-align: right;\n",
       "    }\n",
       "</style>\n",
       "<table border=\"1\" class=\"dataframe\">\n",
       "  <thead>\n",
       "    <tr style=\"text-align: right;\">\n",
       "      <th></th>\n",
       "      <th>data</th>\n",
       "      <th>clima</th>\n",
       "      <th>temperatura media</th>\n",
       "    </tr>\n",
       "  </thead>\n",
       "  <tbody>\n",
       "    <tr>\n",
       "      <th>0</th>\n",
       "      <td>2021-09-06 03:00:00+00:00</td>\n",
       "      <td>Light Drizzle</td>\n",
       "      <td>22.035416</td>\n",
       "    </tr>\n",
       "  </tbody>\n",
       "</table>\n",
       "</div>"
      ],
      "text/plain": [
       "                       data          clima  temperatura media\n",
       "0 2021-09-06 03:00:00+00:00  Light Drizzle          22.035416"
      ]
     },
     "execution_count": 6,
     "metadata": {},
     "output_type": "execute_result"
    }
   ],
   "source": [
    "from open_meteo_api import Weather\n",
    "\n",
    "local = Weather(-23.197825787774093, -45.87988813970938)\n",
    "local.forecast('2021-09-06','2021-09-06')"
   ]
  },
  {
   "cell_type": "markdown",
   "id": "c4ef7155",
   "metadata": {},
   "source": [
    "## 2 - O que é REST?"
   ]
  },
  {
   "cell_type": "markdown",
   "id": "166b01fa",
   "metadata": {},
   "source": []
  }
 ],
 "metadata": {
  "kernelspec": {
   "display_name": "env",
   "language": "python",
   "name": "python3"
  },
  "language_info": {
   "codemirror_mode": {
    "name": "ipython",
    "version": 3
   },
   "file_extension": ".py",
   "mimetype": "text/x-python",
   "name": "python",
   "nbconvert_exporter": "python",
   "pygments_lexer": "ipython3",
   "version": "3.12.11"
  }
 },
 "nbformat": 4,
 "nbformat_minor": 5
}
