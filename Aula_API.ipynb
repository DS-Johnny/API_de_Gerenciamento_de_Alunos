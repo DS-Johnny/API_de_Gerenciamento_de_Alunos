{
 "cells": [
  {
   "cell_type": "markdown",
   "id": "c9a530b5",
   "metadata": {},
   "source": [
    "# Entendendo APIs"
   ]
  },
  {
   "cell_type": "markdown",
   "id": "b74f1d88",
   "metadata": {},
   "source": [
    "## 1 - O que é uma API?"
   ]
  },
  {
   "cell_type": "markdown",
   "id": "03f41632",
   "metadata": {},
   "source": [
    "API **(aplication programming interface)** é uma interface que permite a comunicação entre dois sistemas diferentes\n"
   ]
  },
  {
   "cell_type": "markdown",
   "id": "31564194",
   "metadata": {},
   "source": [
    "### Primeiro exemplo"
   ]
  },
  {
   "cell_type": "markdown",
   "id": "79d90962",
   "metadata": {},
   "source": [
    "O site https://hp-api.onrender.com é uma API pública (Interface de Programação de Aplicações) que oferece informações sobre o universo de Harry Potter. Essa API fornece dados relacionados a personagens, casas de Hogwarts, feitiços, varinhas, entre outros elementos do mundo criado por J.K. Rowling. Ela pode ser usada para acessar informações detalhadas, como:\n",
    "\n",
    "Personagens: Dados sobre personagens do universo de Harry Potter, como nome, casa, informações biográficas, etc.\n",
    "\n",
    "Casas de Hogwarts: Informações sobre as casas de Hogwarts (Grifinória, Sonserina, Lufa-Lufa e Corvinal).\n",
    "\n",
    "Feitiços: Dados sobre feitiços, incluindo seus nomes e efeitos.\n",
    "\n",
    "Varinhas: Detalhes sobre as varinhas usadas pelos personagens.\n",
    "\n",
    "Outros elementos: Pode incluir informações sobre filmes, livros, criaturas mágicas, etc."
   ]
  },
  {
   "cell_type": "code",
   "execution_count": 6,
   "id": "d376caa9",
   "metadata": {},
   "outputs": [
    {
     "name": "stdout",
     "output_type": "stream",
     "text": [
      "id | 9e3f7ce4-b9a7-4244-b709-dae5c1f1d4a8\n",
      "name | Harry Potter\n",
      "alternate_names | ['The Boy Who Lived', 'The Chosen One', 'Undesirable No. 1', 'Potty']\n",
      "species | human\n",
      "gender | male\n",
      "house | Gryffindor\n",
      "dateOfBirth | 31-07-1980\n",
      "yearOfBirth | 1980\n",
      "wizard | True\n",
      "ancestry | half-blood\n",
      "eyeColour | green\n",
      "hairColour | black\n",
      "wand | {'wood': 'holly', 'core': 'phoenix tail feather', 'length': 11}\n",
      "patronus | stag\n",
      "hogwartsStudent | True\n",
      "hogwartsStaff | False\n",
      "actor | Daniel Radcliffe\n",
      "alternate_actors | []\n",
      "alive | True\n",
      "image | https://ik.imagekit.io/hpapi/harry.jpg\n"
     ]
    }
   ],
   "source": [
    "import requests\n",
    "response = requests.get('https://hp-api.onrender.com/api/characters/')\n",
    "if response.status_code == 200:\n",
    "    dados = response.json()\n",
    "    for personagem in dados:\n",
    "        if personagem['name'] == 'Harry Potter':\n",
    "            for k in personagem.keys():\n",
    "                print(f'{k} | {personagem[k]}')\n",
    "else:\n",
    "    print(response.status_code)"
   ]
  },
  {
   "cell_type": "markdown",
   "id": "cdf4c4b8",
   "metadata": {},
   "source": [
    "### 1.1 - Por que APIs existem?"
   ]
  },
  {
   "cell_type": "markdown",
   "id": "2cce0f64",
   "metadata": {},
   "source": [
    "As APIs existem para permitir que diferentes sistemas ou aplicativos se comuniquem e compartilhem dados de maneira padronizada e eficiente. Elas funcionam como um \"contrato\" entre diferentes sistemas: um fornece uma funcionalidade ou dado, e o outro consome ou utiliza essa informação."
   ]
  },
  {
   "cell_type": "markdown",
   "id": "256301fc",
   "metadata": {},
   "source": [
    "| **Razão para Existirem**                 | **Explicação**                                                                         |\n",
    "| ---------------------------------------- | -------------------------------------------------------------------------------------- |\n",
    "| **Integração entre sistemas diferentes** | Permite comunicação e troca de dados entre sistemas distintos.                         |\n",
    "| **Reusabilidade**                        | Funcionalidades podem ser reutilizadas em diferentes contextos, sem reescrever código. |\n",
    "| **Automação**                            | Facilita a automação de tarefas e processos, como pagamentos ou notificações.          |\n",
    "| **Escalabilidade**                       | Facilita a atualização e o crescimento dos sistemas sem impactar outros componentes.   |\n",
    "| **Segurança e controle**                 | Permite controlar o acesso a dados e serviços, garantindo maior segurança.             |\n"
   ]
  },
  {
   "cell_type": "markdown",
   "id": "feb718c4",
   "metadata": {},
   "source": [
    "### 1.2 - Por que aprender sobre APIs?"
   ]
  },
  {
   "cell_type": "markdown",
   "id": "47f27171",
   "metadata": {},
   "source": [
    "No geral, aprender sobre APIs não só expande suas habilidades técnicas, mas também permite que você crie soluções mais poderosas, eficientes e modernas."
   ]
  },
  {
   "cell_type": "markdown",
   "id": "499679cf",
   "metadata": {},
   "source": [
    "| **Por que aprender sobre APIs**                  | **Benefício**                                                                                |\n",
    "| ------------------------------------------------ | -------------------------------------------------------------------------------------------- |\n",
    "| **Habilidade essencial para desenvolvedores**    | Fundamentais para construir aplicativos modernos e funcionais.                               |\n",
    "| **Acesso a serviços externos**                   | Oferece acesso a funcionalidades e dados complexos de terceiros, sem precisar reinventar.    |\n",
    "| **Facilidade na integração com outros serviços** | Permite integrar seu sistema com outras plataformas e serviços de maneira eficiente.         |\n",
    "| **Aumento da produtividade**                     | Economiza tempo e recursos, usando soluções prontas e testadas.                              |\n",
    "| **Trabalho em equipe**                           | Facilita a colaboração entre diferentes equipes, dividindo responsabilidades de forma clara. |\n"
   ]
  },
  {
   "cell_type": "markdown",
   "id": "b7bccf85",
   "metadata": {},
   "source": [
    "### Segundo exemplo"
   ]
  },
  {
   "cell_type": "markdown",
   "id": "a50c4cfc",
   "metadata": {},
   "source": [
    "A Open-Meteo API é uma API pública e gratuita que fornece previsões meteorológicas e dados climáticos históricos para qualquer coordenada geográfica, sem necessidade de autenticação por chave de API.\n",
    "\n",
    "Principais recursos:\n",
    "\n",
    "Previsão horária, diária ou de longo prazo.\n",
    "\n",
    "Dados como temperatura, precipitação, vento, umidade, pressão, índice UV, entre outros.\n",
    "\n",
    "Cobertura global.\n",
    "\n",
    "Formato de resposta: geralmente JSON.\n",
    "\n",
    "Uso típico: você envia uma requisição HTTP com latitude, longitude e parâmetros desejados, e recebe os dados meteorológicos no formato especificado.\n",
    "\n",
    "Exemplo de requisição:"
   ]
  },
  {
   "cell_type": "code",
   "execution_count": null,
   "id": "e31d6c73",
   "metadata": {},
   "outputs": [],
   "source": [
    "response = requests.get(\"https://api.open-meteo.com/v1/forecast?latitude=-23.55&longitude=-46.63&hourly=temperature_2m\")\n",
    "conteudo = response.json()\n",
    "print(conteudo)"
   ]
  },
  {
   "cell_type": "code",
   "execution_count": 7,
   "id": "7940e46d",
   "metadata": {},
   "outputs": [
    {
     "data": {
      "text/html": [
       "<div>\n",
       "<style scoped>\n",
       "    .dataframe tbody tr th:only-of-type {\n",
       "        vertical-align: middle;\n",
       "    }\n",
       "\n",
       "    .dataframe tbody tr th {\n",
       "        vertical-align: top;\n",
       "    }\n",
       "\n",
       "    .dataframe thead th {\n",
       "        text-align: right;\n",
       "    }\n",
       "</style>\n",
       "<table border=\"1\" class=\"dataframe\">\n",
       "  <thead>\n",
       "    <tr style=\"text-align: right;\">\n",
       "      <th></th>\n",
       "      <th>data</th>\n",
       "      <th>clima</th>\n",
       "      <th>temperatura media</th>\n",
       "    </tr>\n",
       "  </thead>\n",
       "  <tbody>\n",
       "    <tr>\n",
       "      <th>0</th>\n",
       "      <td>2021-09-06 03:00:00+00:00</td>\n",
       "      <td>Light Drizzle</td>\n",
       "      <td>22.035416</td>\n",
       "    </tr>\n",
       "  </tbody>\n",
       "</table>\n",
       "</div>"
      ],
      "text/plain": [
       "                       data          clima  temperatura media\n",
       "0 2021-09-06 03:00:00+00:00  Light Drizzle          22.035416"
      ]
     },
     "execution_count": 7,
     "metadata": {},
     "output_type": "execute_result"
    }
   ],
   "source": [
    "from open_meteo_api import Weather\n",
    "\n",
    "local = Weather(-23.197825787774093, -45.87988813970938)\n",
    "local.forecast('2021-09-06','2021-09-06')"
   ]
  },
  {
   "cell_type": "markdown",
   "id": "c4ef7155",
   "metadata": {},
   "source": [
    "## 2 - O que é REST?"
   ]
  },
  {
   "cell_type": "markdown",
   "id": "166b01fa",
   "metadata": {},
   "source": [
    "REST - Um conjunto de regras e boas práticas para criação de APIs"
   ]
  },
  {
   "cell_type": "markdown",
   "id": "fe169f98",
   "metadata": {},
   "source": [
    "REST (Representational State Transfer) não é uma tecnologia, mas sim um estilo arquitetural para projetar sistemas distribuídos, especialmente APIs. Ele define um conjunto de princípios e restrições que, quando seguidos, permitem a criação de APIs web altamente eficientes, escaláveis e de fácil manutenção."
   ]
  },
  {
   "cell_type": "markdown",
   "id": "f86077d8",
   "metadata": {},
   "source": [
    "### 2.1 - Quais são essas regras?"
   ]
  },
  {
   "cell_type": "markdown",
   "id": "c853f7f7",
   "metadata": {},
   "source": [
    "| Constraint                        | Explicação Simples                                                                                  | Analogia Fácil                                                                           |\n",
    "| --------------------------------- | --------------------------------------------------------------------------------------------------- | ---------------------------------------------------------------------------------------- |\n",
    "| **Cliente–Servidor**              | O cliente (app, navegador) e o servidor são separados. O cliente só pede, o servidor só responde.   | Como pedir comida: você só fala o pedido, e a cozinha só prepara e entrega.              |\n",
    "| **Stateless**                     | O servidor não guarda memória do que você fez antes. Cada pedido é independente.                    | Toda vez que pede comida, você dá seu endereço e detalhes, mesmo que tenha pedido ontem. |\n",
    "| **Cacheable**                     | O servidor pode dizer se a resposta pode ser guardada para usar depois, sem precisar pedir de novo. | Guardar o cardápio do restaurante para não precisar pedir toda hora.                     |\n",
    "| **Interface Uniforme**            | Sempre o mesmo jeito de pedir e receber informações, independentemente do recurso.                  | Todos os restaurantes usarem o mesmo formato de cardápio e pedido.                       |\n",
    "| **Sistema em Camadas**            | Pode ter vários intermediários entre cliente e servidor, sem o cliente perceber.                    | Você pede para o garçom, que fala com o chefe, que fala com o cozinheiro.                |\n",
    "| **Código sob Demanda (Opcional)** | O servidor pode mandar código para o cliente executar.                                              | O restaurante te manda um molho pronto para você usar do jeito que quiser.               |\n"
   ]
  },
  {
   "cell_type": "markdown",
   "id": "23894a92",
   "metadata": {},
   "source": [
    "### 2.2 - Por que usar REST?"
   ]
  },
  {
   "cell_type": "markdown",
   "id": "f8916c4b",
   "metadata": {},
   "source": [
    "| Motivo                        | Explicação                                                                               |\n",
    "| ----------------------------- | ---------------------------------------------------------------------------------------- |\n",
    "| **Simplicidade**              | Baseado em HTTP, fácil de consumir até em navegador, sem bibliotecas complexas.          |\n",
    "| **Amplamente suportado**      | Funciona com qualquer linguagem ou framework; ferramentas como Postman facilitam testes. |\n",
    "| **Escalabilidade**            | Stateless: cada requisição é independente, facilitando distribuição de carga.            |\n",
    "| **Flexibilidade de formatos** | Suporta JSON, XML, CSV, YAML; atende web, mobile e IoT.                                  |\n",
    "| **Clareza e padronização**    | Rotas baseadas em recursos e verbos HTTP tornam a API intuitiva.                         |\n",
    "| **Baixa barreira de entrada** | Fácil de aprender e implementar, ideal para protótipos e APIs públicas.                  |\n"
   ]
  },
  {
   "cell_type": "markdown",
   "id": "c44c6bdd",
   "metadata": {},
   "source": [
    "### 2.3 - Comparando REST com outras arquiteturas"
   ]
  },
  {
   "cell_type": "markdown",
   "id": "f6a9d426",
   "metadata": {},
   "source": [
    "| Arquitetura                     | Formato de Dados Padrão            | Pontos Fortes                                                        | Pontos Fracos                                                                       | Casos Comuns                                                     |\n",
    "| ------------------------------- | ---------------------------------- | -------------------------------------------------------------------- | ----------------------------------------------------------------------------------- | ---------------------------------------------------------------- |\n",
    "| **REST**                        | JSON / XML                         | Simples, amplamente usado, fácil integração                          | Pode enviar dados desnecessários; múltiplas requisições para obter info relacionada | Web e mobile apps, APIs públicas                                 |\n",
    "| **SOAP**                        | XML                                | Estrutura padronizada, segurança WS-\\*, transações confiáveis        | Mais verboso, menos flexível                                                        | Integrações corporativas, serviços bancários                     |\n",
    "| **GraphQL**                     | JSON                               | Retorna apenas o que o cliente precisa, reduz chamadas múltiplas     | Configuração inicial mais complexa, curva de aprendizado                            | Aplicações com dados dinâmicos e variados (Facebook, GitHub API) |\n",
    "| **gRPC**                        | Binário (Protocol Buffers)         | Alta performance, comunicação bidirecional, ideal para microserviços | Complexo para iniciantes, menos amigável a browsers                                 | Sistemas distribuídos, comunicação interna entre serviços        |\n",
    "| **RPC (Remote Procedure Call)** | Varia (JSON-RPC, XML-RPC, binário) | Simples de implementar, chama funções remotamente                    | Pode gerar alto acoplamento entre cliente e servidor                                | Sistemas internos, automações                                    |\n"
   ]
  }
 ],
 "metadata": {
  "kernelspec": {
   "display_name": "env",
   "language": "python",
   "name": "python3"
  },
  "language_info": {
   "codemirror_mode": {
    "name": "ipython",
    "version": 3
   },
   "file_extension": ".py",
   "mimetype": "text/x-python",
   "name": "python",
   "nbconvert_exporter": "python",
   "pygments_lexer": "ipython3",
   "version": "3.12.11"
  }
 },
 "nbformat": 4,
 "nbformat_minor": 5
}
